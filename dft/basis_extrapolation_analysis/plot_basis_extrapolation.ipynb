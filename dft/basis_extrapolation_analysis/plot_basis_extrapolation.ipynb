{
 "cells": [
  {
   "cell_type": "markdown",
   "source": [
    "# Plots the DFT ground state energy of the combined hBN-water system as a function of plane wave energy cutoff."
   ],
   "metadata": {}
  },
  {
   "cell_type": "code",
   "execution_count": 1,
   "source": [
    "import pandas as pd\n",
    "import numpy as np\n",
    "import matplotlib.pyplot as plt"
   ],
   "outputs": [],
   "metadata": {}
  },
  {
   "cell_type": "code",
   "execution_count": 2,
   "source": [
    "def make_df(data_path):\n",
    "    df = pd.read_table(\n",
    "        data_path,\n",
    "        delim_whitespace=True,\n",
    "        header=None,\n",
    "        names=[\n",
    "            \"system\",\n",
    "            \"functional\",\n",
    "            \"ecp\",\n",
    "            \"ecut_ev\",\n",
    "            \"Nk\",\n",
    "            \"Ns\",\n",
    "            \"total_energy_ryd\",\n",
    "        ],\n",
    "    )\n",
    "    return df\n",
    "\n",
    "\n",
    "def plot_basis_set_extrapolation(df):\n",
    "    system = df[\"system\"].values[0]\n",
    "    functional = df[\"functional\"].values[0]\n",
    "    ecp = df[\"ecp\"].values[0]\n",
    "    Nk = df[\"Nk\"].values[0]\n",
    "    Ns = df[\"Ns\"].values[0]\n",
    "    plt.figure(figsize=(5, 5))\n",
    "    plt.title(\n",
    "        f\"Basis set extrapolation for hBN-water system\"\n",
    "        + f\"\\n {functional}, {ecp}, {Nk}x{Nk}x1 k-mesh, {Ns}x{Ns}x1 supercell\"\n",
    "    )\n",
    "    plt.xlabel(r\"Plane wave E$_{cut}$ (eV)\")\n",
    "    plt.ylabel(\"DFT total energy (eV)\")\n",
    "    plt.plot(\n",
    "        \"ecut_ev\",\n",
    "        \"total_energy_ev\",\n",
    "        data=df,\n",
    "        linestyle=\"solid\",\n",
    "        marker=\"o\",\n",
    "    )\n",
    "    plt.savefig(\n",
    "        f\"/Users/Nathan/Desktop/basis_set_extrapolation_{system}_{functional}_{ecp}_Nk_{Nk}_Ns_{Ns}.png\",\n",
    "        dpi=300,\n",
    "        bbox_inches=\"tight\",\n",
    "    )"
   ],
   "outputs": [],
   "metadata": {}
  },
  {
   "cell_type": "code",
   "execution_count": 7,
   "source": [
    "data_path = \"total_energy_data.txt\"\n",
    "ryd_per_ev = 0.0734986176\n",
    "df = make_df(data_path)\n",
    "df[\"total_energy_ev\"] = (df[\"total_energy_ryd\"].values - df[\"total_energy_ryd\"].values[-1]) / ryd_per_ev\n",
    "df"
   ],
   "outputs": [
    {
     "output_type": "execute_result",
     "data": {
      "text/plain": [
       "                system functional  ecp  ecut_ev  Nk  Ns  total_energy_ryd  \\\n",
       "0  hBN_water_Oup_Hdown        pbe  paw      400   1   1       -203.002708   \n",
       "1  hBN_water_Oup_Hdown        pbe  paw      500   1   1       -203.237756   \n",
       "2  hBN_water_Oup_Hdown        pbe  paw      600   1   1       -203.263624   \n",
       "3  hBN_water_Oup_Hdown        pbe  paw      700   1   1       -203.264343   \n",
       "4  hBN_water_Oup_Hdown        pbe  paw      800   1   1       -203.265243   \n",
       "\n",
       "   total_energy_ev  \n",
       "0         3.571972  \n",
       "1         0.373986  \n",
       "2         0.022032  \n",
       "3         0.012244  \n",
       "4         0.000000  "
      ],
      "text/html": [
       "<div>\n",
       "<style scoped>\n",
       "    .dataframe tbody tr th:only-of-type {\n",
       "        vertical-align: middle;\n",
       "    }\n",
       "\n",
       "    .dataframe tbody tr th {\n",
       "        vertical-align: top;\n",
       "    }\n",
       "\n",
       "    .dataframe thead th {\n",
       "        text-align: right;\n",
       "    }\n",
       "</style>\n",
       "<table border=\"1\" class=\"dataframe\">\n",
       "  <thead>\n",
       "    <tr style=\"text-align: right;\">\n",
       "      <th></th>\n",
       "      <th>system</th>\n",
       "      <th>functional</th>\n",
       "      <th>ecp</th>\n",
       "      <th>ecut_ev</th>\n",
       "      <th>Nk</th>\n",
       "      <th>Ns</th>\n",
       "      <th>total_energy_ryd</th>\n",
       "      <th>total_energy_ev</th>\n",
       "    </tr>\n",
       "  </thead>\n",
       "  <tbody>\n",
       "    <tr>\n",
       "      <td>0</td>\n",
       "      <td>hBN_water_Oup_Hdown</td>\n",
       "      <td>pbe</td>\n",
       "      <td>paw</td>\n",
       "      <td>400</td>\n",
       "      <td>1</td>\n",
       "      <td>1</td>\n",
       "      <td>-203.002708</td>\n",
       "      <td>3.571972</td>\n",
       "    </tr>\n",
       "    <tr>\n",
       "      <td>1</td>\n",
       "      <td>hBN_water_Oup_Hdown</td>\n",
       "      <td>pbe</td>\n",
       "      <td>paw</td>\n",
       "      <td>500</td>\n",
       "      <td>1</td>\n",
       "      <td>1</td>\n",
       "      <td>-203.237756</td>\n",
       "      <td>0.373986</td>\n",
       "    </tr>\n",
       "    <tr>\n",
       "      <td>2</td>\n",
       "      <td>hBN_water_Oup_Hdown</td>\n",
       "      <td>pbe</td>\n",
       "      <td>paw</td>\n",
       "      <td>600</td>\n",
       "      <td>1</td>\n",
       "      <td>1</td>\n",
       "      <td>-203.263624</td>\n",
       "      <td>0.022032</td>\n",
       "    </tr>\n",
       "    <tr>\n",
       "      <td>3</td>\n",
       "      <td>hBN_water_Oup_Hdown</td>\n",
       "      <td>pbe</td>\n",
       "      <td>paw</td>\n",
       "      <td>700</td>\n",
       "      <td>1</td>\n",
       "      <td>1</td>\n",
       "      <td>-203.264343</td>\n",
       "      <td>0.012244</td>\n",
       "    </tr>\n",
       "    <tr>\n",
       "      <td>4</td>\n",
       "      <td>hBN_water_Oup_Hdown</td>\n",
       "      <td>pbe</td>\n",
       "      <td>paw</td>\n",
       "      <td>800</td>\n",
       "      <td>1</td>\n",
       "      <td>1</td>\n",
       "      <td>-203.265243</td>\n",
       "      <td>0.000000</td>\n",
       "    </tr>\n",
       "  </tbody>\n",
       "</table>\n",
       "</div>"
      ]
     },
     "metadata": {},
     "execution_count": 7
    }
   ],
   "metadata": {}
  },
  {
   "cell_type": "code",
   "execution_count": 8,
   "source": [
    "plot_basis_set_extrapolation(df[df.total_energy_ev < 3])"
   ],
   "outputs": [
    {
     "output_type": "display_data",
     "data": {
      "text/plain": [
       "<Figure size 360x360 with 1 Axes>"
      ],
      "image/png": "[encoded data removed]"
     },
     "metadata": {
      "needs_background": "light"
     }
    }
   ],
   "metadata": {}
  }
 ],
 "metadata": {
  "orig_nbformat": 4,
  "language_info": {
   "name": "python",
   "version": "3.6.9",
   "mimetype": "text/x-python",
   "codemirror_mode": {
    "name": "ipython",
    "version": 3
   },
   "pygments_lexer": "ipython3",
   "nbconvert_exporter": "python",
   "file_extension": ".py"
  },
  "kernelspec": {
   "name": "python3",
   "display_name": "Python 3.6.9 64-bit (conda)"
  },
  "interpreter": {
   "hash": "563616ea0795551886fedfb6f43611ed89f67b819df42e5edfc6c6ce5ab0ec12"
  }
 },
 "nbformat": 4,
 "nbformat_minor": 2
}