{
 "cells": [
  {
   "cell_type": "markdown",
   "source": [
    "# Plots the DFT ground state energy of the combined hBN-water system as a function of plane wave energy cutoff."
   ],
   "metadata": {}
  },
  {
   "cell_type": "code",
   "execution_count": 1,
   "source": [
    "import pandas as pd\n",
    "import numpy as np\n",
    "import matplotlib.pyplot as plt"
   ],
   "outputs": [],
   "metadata": {}
  },
  {
   "cell_type": "code",
   "execution_count": 16,
   "source": [
    "def make_df(data_path):\n",
    "    df = pd.read_table(\n",
    "        data_path,\n",
    "        delim_whitespace=True,\n",
    "        header=None,\n",
    "        names=[\n",
    "            \"system\",\n",
    "            \"functional\",\n",
    "            \"ecp\",\n",
    "            \"ecut_ev\",\n",
    "            \"Nk\",\n",
    "            \"Ns\",\n",
    "            \"total_energy_ryd\",\n",
    "        ],\n",
    "    )\n",
    "    return df\n",
    "\n",
    "\n",
    "def plot_kmesh_extrapolation(df):\n",
    "    system = df[\"system\"].values[0]\n",
    "    functional = df[\"functional\"].values[0]\n",
    "    ecp = df[\"ecp\"].values[0]\n",
    "    ecut_ev = df[\"ecut_ev\"].values[0]\n",
    "    Ns = df[\"Ns\"].values[0]\n",
    "    plt.figure(figsize=(5, 5))\n",
    "    plt.title(\n",
    "        f\"K-mesh extrapolation for hBN-water system\"\n",
    "        + f\"\\n {functional}, {ecp}, E$_{{cut}}$ = {ecut_ev} eV, {Ns}x{Ns}x1 supercell\"\n",
    "    )\n",
    "    plt.xlabel(r\"$N_{k_x} \\cdot N_{k_y}$\")\n",
    "    plt.ylabel(\"DFT total energy (eV)\")\n",
    "    plt.plot(\n",
    "        \"kmesh_size\",\n",
    "        \"total_energy_ev\",\n",
    "        data=df,\n",
    "        linestyle=\"solid\",\n",
    "        marker=\"o\",\n",
    "    )\n",
    "    plt.savefig(\n",
    "        f\"/Users/Nathan/Desktop/kmesh_extrapolation_{system}_{functional}_ecut_{ecut_ev}_{ecp}_Ns_{Ns}.png\",\n",
    "        dpi=300,\n",
    "        bbox_inches=\"tight\",\n",
    "    )"
   ],
   "outputs": [],
   "metadata": {}
  },
  {
   "cell_type": "code",
   "execution_count": 17,
   "source": [
    "data_path = \"total_energy_data.txt\"\n",
    "ryd_per_ev = 0.0734986176\n",
    "df = make_df(data_path)\n",
    "df[\"total_energy_ev\"] = (\n",
    "    df[\"total_energy_ryd\"].values - np.amin(df[\"total_energy_ryd\"].values)\n",
    ") / ryd_per_ev\n",
    "df[\"kmesh_size\"] = np.power(df[\"Nk\"].values, 2)\n",
    "df"
   ],
   "outputs": [
    {
     "output_type": "execute_result",
     "data": {
      "text/plain": [
       "                system functional  ecp  ecut_ev  Nk  Ns  total_energy_ryd  \\\n",
       "0  hBN_water_Oup_Hdown        pbe  paw      700   1   1       -203.264343   \n",
       "1  hBN_water_Oup_Hdown        pbe  paw      700   2   1       -203.479286   \n",
       "2  hBN_water_Oup_Hdown        pbe  paw      700   3   1       -203.488394   \n",
       "3  hBN_water_Oup_Hdown        pbe  paw      700   4   1       -203.489110   \n",
       "4  hBN_water_Oup_Hdown        pbe  paw      700   5   1       -203.489221   \n",
       "\n",
       "   total_energy_ev  kmesh_size  \n",
       "0         3.059621           1  \n",
       "1         0.135181           4  \n",
       "2         0.011250           9  \n",
       "3         0.001511          16  \n",
       "4         0.000000          25  "
      ],
      "text/html": [
       "<div>\n",
       "<style scoped>\n",
       "    .dataframe tbody tr th:only-of-type {\n",
       "        vertical-align: middle;\n",
       "    }\n",
       "\n",
       "    .dataframe tbody tr th {\n",
       "        vertical-align: top;\n",
       "    }\n",
       "\n",
       "    .dataframe thead th {\n",
       "        text-align: right;\n",
       "    }\n",
       "</style>\n",
       "<table border=\"1\" class=\"dataframe\">\n",
       "  <thead>\n",
       "    <tr style=\"text-align: right;\">\n",
       "      <th></th>\n",
       "      <th>system</th>\n",
       "      <th>functional</th>\n",
       "      <th>ecp</th>\n",
       "      <th>ecut_ev</th>\n",
       "      <th>Nk</th>\n",
       "      <th>Ns</th>\n",
       "      <th>total_energy_ryd</th>\n",
       "      <th>total_energy_ev</th>\n",
       "      <th>kmesh_size</th>\n",
       "    </tr>\n",
       "  </thead>\n",
       "  <tbody>\n",
       "    <tr>\n",
       "      <td>0</td>\n",
       "      <td>hBN_water_Oup_Hdown</td>\n",
       "      <td>pbe</td>\n",
       "      <td>paw</td>\n",
       "      <td>700</td>\n",
       "      <td>1</td>\n",
       "      <td>1</td>\n",
       "      <td>-203.264343</td>\n",
       "      <td>3.059621</td>\n",
       "      <td>1</td>\n",
       "    </tr>\n",
       "    <tr>\n",
       "      <td>1</td>\n",
       "      <td>hBN_water_Oup_Hdown</td>\n",
       "      <td>pbe</td>\n",
       "      <td>paw</td>\n",
       "      <td>700</td>\n",
       "      <td>2</td>\n",
       "      <td>1</td>\n",
       "      <td>-203.479286</td>\n",
       "      <td>0.135181</td>\n",
       "      <td>4</td>\n",
       "    </tr>\n",
       "    <tr>\n",
       "      <td>2</td>\n",
       "      <td>hBN_water_Oup_Hdown</td>\n",
       "      <td>pbe</td>\n",
       "      <td>paw</td>\n",
       "      <td>700</td>\n",
       "      <td>3</td>\n",
       "      <td>1</td>\n",
       "      <td>-203.488394</td>\n",
       "      <td>0.011250</td>\n",
       "      <td>9</td>\n",
       "    </tr>\n",
       "    <tr>\n",
       "      <td>3</td>\n",
       "      <td>hBN_water_Oup_Hdown</td>\n",
       "      <td>pbe</td>\n",
       "      <td>paw</td>\n",
       "      <td>700</td>\n",
       "      <td>4</td>\n",
       "      <td>1</td>\n",
       "      <td>-203.489110</td>\n",
       "      <td>0.001511</td>\n",
       "      <td>16</td>\n",
       "    </tr>\n",
       "    <tr>\n",
       "      <td>4</td>\n",
       "      <td>hBN_water_Oup_Hdown</td>\n",
       "      <td>pbe</td>\n",
       "      <td>paw</td>\n",
       "      <td>700</td>\n",
       "      <td>5</td>\n",
       "      <td>1</td>\n",
       "      <td>-203.489221</td>\n",
       "      <td>0.000000</td>\n",
       "      <td>25</td>\n",
       "    </tr>\n",
       "  </tbody>\n",
       "</table>\n",
       "</div>"
      ]
     },
     "metadata": {},
     "execution_count": 17
    }
   ],
   "metadata": {}
  },
  {
   "cell_type": "code",
   "execution_count": 19,
   "source": [
    "plot_kmesh_extrapolation(df[df.Nk > 1])"
   ],
   "outputs": [
    {
     "output_type": "display_data",
     "data": {
      "text/plain": [
       "<Figure size 360x360 with 1 Axes>"
      ],
      "image/png": "[encoded data removed]"
     },
     "metadata": {
      "needs_background": "light"
     }
    }
   ],
   "metadata": {}
  }
 ],
 "metadata": {
  "orig_nbformat": 4,
  "language_info": {
   "name": "python",
   "version": "3.6.9",
   "mimetype": "text/x-python",
   "codemirror_mode": {
    "name": "ipython",
    "version": 3
   },
   "pygments_lexer": "ipython3",
   "nbconvert_exporter": "python",
   "file_extension": ".py"
  },
  "kernelspec": {
   "name": "python3",
   "display_name": "Python 3.6.9 64-bit (conda)"
  },
  "interpreter": {
   "hash": "563616ea0795551886fedfb6f43611ed89f67b819df42e5edfc6c6ce5ab0ec12"
  }
 },
 "nbformat": 4,
 "nbformat_minor": 2
}