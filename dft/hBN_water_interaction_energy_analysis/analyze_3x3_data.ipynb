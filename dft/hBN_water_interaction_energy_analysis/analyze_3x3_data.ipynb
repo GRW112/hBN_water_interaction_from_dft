{
 "cells": [
  {
   "cell_type": "code",
   "execution_count": 2,
   "metadata": {},
   "outputs": [],
   "source": [
    "import numpy as np\n",
    "from scipy.optimize import curve_fit\n",
    "import matplotlib.pyplot as plt\n",
    "'''\n",
    "Read Data from File\n",
    "'''\n",
    "def read_File(URL):\n",
    "  dataFile = open\\\n",
    "    (URL,'r')\n",
    "  Lines = dataFile.readlines()\n",
    "  dataArray = []\n",
    "  lineNum = 0\n",
    "  for line in Lines:\n",
    "    lineNum += 1\n",
    "    if lineNum <= 2 or len(line.split()) < 4:\n",
    "      continue\n",
    "    dataArray.append(line.split())\n",
    "  return dataArray\n",
    "\n",
    "'''\n",
    "Finds the R ij value\n",
    "'''\n",
    "def rijVal(rij):\n",
    "    return np.sum(rij ** 2) ** 0.5\n",
    "\n",
    "'''\n",
    "Calculates rij\n",
    "'''\n",
    "def distance_Table(data):\n",
    "  resultTable = []\n",
    "  for i in range(len(data)):\n",
    "    el1 = data[i][0]\n",
    "    thisElPos = np.asarray(data[i][1:], dtype=float)\n",
    "    for j in range(i, len(data)):\n",
    "      el2 = data[j][0]\n",
    "      if el1 == el2 or (el1 + el2 == 'BN' or el1 + el2 == 'OH'): # if same element then skip\n",
    "        continue\n",
    "      thatElPos = np.asarray(data[j][1:], dtype=float)\n",
    "      distance = [el1 + el2, rijVal(thatElPos - thisElPos)]\n",
    "      # print(\"this\", data[i], \", that\", data[j], \", dist = \", distance)\n",
    "      resultTable.append(distance)\n",
    "  return resultTable\n",
    "\n",
    "'''\n",
    "Calculates Sum of Delta E electrostatic\n",
    "With q_O = 0 and q_H = +0.52\n",
    "'''\n",
    "def delta_e_electrostatic(url):\n",
    "  data = read_File(url)\n",
    "  rij = distance_Table(data)\n",
    "\n",
    "  # partial charge data\n",
    "  q_O = 0\n",
    "  q_H = 0.52\n",
    "  q_B = 0.3\n",
    "  q_N = -0.3\n",
    "\n",
    "  result = 0\n",
    "  for r in rij:\n",
    "    type = r[0]\n",
    "    dist = r[1]\n",
    "    if type == \"BO\":\n",
    "      result += q_B * q_O / dist\n",
    "    elif type == \"NO\":\n",
    "      result += q_N * q_O / dist\n",
    "    elif type == \"BH\":\n",
    "      result += q_B * q_H / dist\n",
    "    elif type == \"NH\":\n",
    "      result += q_N * q_H / dist\n",
    "    else:\n",
    "      print(\"Unknown type: \", type)\n",
    "      result += 0\n",
    "  return result\n",
    "\n",
    "def delta_e_vdw(energy, distanceNum):\n",
    "  distanceNum = str(format(distanceNum, '.4f'))\n",
    "  fileURL = \\\n",
    "    \"../../geometries/hBN_water_geometries/supercells_one_water/diff_h/hBN_water_Oup_Hdown_3x3x1_supercell_h_\" \\\n",
    "      + distanceNum + \".xyz\"\n",
    "  e_electrostatic = delta_e_electrostatic(fileURL)\n",
    "  print(\"Calculating E_electrostatic from: \", distanceNum, \", elctrostatic energy: \", e_electrostatic)\n",
    "  return energy - e_electrostatic\n",
    "\n",
    "def RMS(ary1, ary2):\n",
    "  if (len(ary1) != len(ary2)):\n",
    "    print(\"RMS Error: ary1 and ary2 have different dimensions!\")\n",
    "    return -1\n",
    "  return np.sum(((np.array(ary1) - np.array(ary2)) ** 2 / len(ary1)) ** 0.5)"
   ]
  },
  {
   "cell_type": "code",
   "execution_count": 4,
   "metadata": {},
   "outputs": [],
   "source": [
    "listOfSheetDistance = [2.9907, 3.1944, 3.3889, 3.5926, 3.7963, 4.5000, 5.0093, 6.0093]\n",
    "# listOfE_vdw = []\n",
    "# for i in range(len(listOfDFTData)):\n",
    "#   listOfE_vdw.append(delta_e_vdw(listOfDFTData[i], listOfSheetDistance[i]))"
   ]
  },
  {
   "cell_type": "code",
   "execution_count": 5,
   "metadata": {},
   "outputs": [
    {
     "name": "stdout",
     "output_type": "stream",
     "text": [
      "0.03448770318230059\n"
     ]
    },
    {
     "ename": "FileNotFoundError",
     "evalue": "[Errno 2] No such file or directory: '../../geometries/hBN_water_geometries/supercells_one_water/diff_h/hBN_water_Oup_Hdown_8x8x1_supercell_h_2.9907.xyz'",
     "output_type": "error",
     "traceback": [
      "\u001b[1;31m---------------------------------------------------------------------------\u001b[0m",
      "\u001b[1;31mFileNotFoundError\u001b[0m                         Traceback (most recent call last)",
      "Cell \u001b[1;32mIn [5], line 5\u001b[0m\n\u001b[0;32m      3\u001b[0m dEElectro \u001b[38;5;241m=\u001b[39m delta_e_electrostatic(\u001b[38;5;124m\"\u001b[39m\u001b[38;5;124m../../geometries/hBN_water_geometries/supercells_one_water/diff_h/hBN_water_Oup_Hdown_3x3x1_supercell_h_2.9907.xyz\u001b[39m\u001b[38;5;124m\"\u001b[39m)\n\u001b[0;32m      4\u001b[0m \u001b[38;5;28mprint\u001b[39m(dEElectro)\n\u001b[1;32m----> 5\u001b[0m testa \u001b[38;5;241m=\u001b[39m \u001b[43mdelta_e_vdw\u001b[49m\u001b[43m(\u001b[49m\u001b[38;5;241;43m0\u001b[39;49m\u001b[43m,\u001b[49m\u001b[43m \u001b[49m\u001b[38;5;241;43m2.9907\u001b[39;49m\u001b[43m)\u001b[49m\n\u001b[0;32m      6\u001b[0m \u001b[38;5;28mprint\u001b[39m(testa)\n",
      "Cell \u001b[1;32mIn [2], line 80\u001b[0m, in \u001b[0;36mdelta_e_vdw\u001b[1;34m(energy, distanceNum)\u001b[0m\n\u001b[0;32m     76\u001b[0m distanceNum \u001b[38;5;241m=\u001b[39m \u001b[38;5;28mstr\u001b[39m(\u001b[38;5;28mformat\u001b[39m(distanceNum, \u001b[38;5;124m'\u001b[39m\u001b[38;5;124m.4f\u001b[39m\u001b[38;5;124m'\u001b[39m))\n\u001b[0;32m     77\u001b[0m fileURL \u001b[38;5;241m=\u001b[39m \\\n\u001b[0;32m     78\u001b[0m   \u001b[38;5;124m\"\u001b[39m\u001b[38;5;124m../../geometries/hBN_water_geometries/supercells_one_water/diff_h/hBN_water_Oup_Hdown_8x8x1_supercell_h_\u001b[39m\u001b[38;5;124m\"\u001b[39m \\\n\u001b[0;32m     79\u001b[0m     \u001b[38;5;241m+\u001b[39m distanceNum \u001b[38;5;241m+\u001b[39m \u001b[38;5;124m\"\u001b[39m\u001b[38;5;124m.xyz\u001b[39m\u001b[38;5;124m\"\u001b[39m\n\u001b[1;32m---> 80\u001b[0m e_electrostatic \u001b[38;5;241m=\u001b[39m \u001b[43mdelta_e_electrostatic\u001b[49m\u001b[43m(\u001b[49m\u001b[43mfileURL\u001b[49m\u001b[43m)\u001b[49m\n\u001b[0;32m     81\u001b[0m \u001b[38;5;28mprint\u001b[39m(\u001b[38;5;124m\"\u001b[39m\u001b[38;5;124mCalculating E_electrostatic from: \u001b[39m\u001b[38;5;124m\"\u001b[39m, distanceNum, \u001b[38;5;124m\"\u001b[39m\u001b[38;5;124m, elctrostatic energy: \u001b[39m\u001b[38;5;124m\"\u001b[39m, e_electrostatic)\n\u001b[0;32m     82\u001b[0m \u001b[38;5;28;01mreturn\u001b[39;00m energy \u001b[38;5;241m-\u001b[39m e_electrostatic\n",
      "Cell \u001b[1;32mIn [2], line 49\u001b[0m, in \u001b[0;36mdelta_e_electrostatic\u001b[1;34m(url)\u001b[0m\n\u001b[0;32m     48\u001b[0m \u001b[38;5;28;01mdef\u001b[39;00m \u001b[38;5;21mdelta_e_electrostatic\u001b[39m(url):\n\u001b[1;32m---> 49\u001b[0m   data \u001b[38;5;241m=\u001b[39m \u001b[43mread_File\u001b[49m\u001b[43m(\u001b[49m\u001b[43murl\u001b[49m\u001b[43m)\u001b[49m\n\u001b[0;32m     50\u001b[0m   rij \u001b[38;5;241m=\u001b[39m distance_Table(data)\n\u001b[0;32m     52\u001b[0m   \u001b[38;5;66;03m# partial charge data\u001b[39;00m\n",
      "Cell \u001b[1;32mIn [2], line 8\u001b[0m, in \u001b[0;36mread_File\u001b[1;34m(URL)\u001b[0m\n\u001b[0;32m      7\u001b[0m \u001b[38;5;28;01mdef\u001b[39;00m \u001b[38;5;21mread_File\u001b[39m(URL):\n\u001b[1;32m----> 8\u001b[0m   dataFile \u001b[38;5;241m=\u001b[39m \u001b[38;5;28;43mopen\u001b[39;49m\u001b[43m\\\u001b[49m\n\u001b[0;32m      9\u001b[0m \u001b[43m    \u001b[49m\u001b[43m(\u001b[49m\u001b[43mURL\u001b[49m\u001b[43m,\u001b[49m\u001b[38;5;124;43m'\u001b[39;49m\u001b[38;5;124;43mr\u001b[39;49m\u001b[38;5;124;43m'\u001b[39;49m\u001b[43m)\u001b[49m\n\u001b[0;32m     10\u001b[0m   Lines \u001b[38;5;241m=\u001b[39m dataFile\u001b[38;5;241m.\u001b[39mreadlines()\n\u001b[0;32m     11\u001b[0m   dataArray \u001b[38;5;241m=\u001b[39m []\n",
      "\u001b[1;31mFileNotFoundError\u001b[0m: [Errno 2] No such file or directory: '../../geometries/hBN_water_geometries/supercells_one_water/diff_h/hBN_water_Oup_Hdown_8x8x1_supercell_h_2.9907.xyz'"
     ]
    }
   ],
   "source": [
    "# test1 = distance_Table(read_File(testURL))\n",
    "# print(test1)\n",
    "dEElectro = delta_e_electrostatic(\"../../geometries/hBN_water_geometries/supercells_one_water/diff_h/hBN_water_Oup_Hdown_3x3x1_supercell_h_2.9907.xyz\")\n",
    "print(dEElectro)\n",
    "testa = delta_e_vdw(0, 2.9907)\n",
    "print(testa)"
   ]
  }
 ],
 "metadata": {
  "kernelspec": {
   "display_name": "Python 3.10.7 64-bit",
   "language": "python",
   "name": "python3"
  },
  "language_info": {
   "codemirror_mode": {
    "name": "ipython",
    "version": 3
   },
   "file_extension": ".py",
   "mimetype": "text/x-python",
   "name": "python",
   "nbconvert_exporter": "python",
   "pygments_lexer": "ipython3",
   "version": "3.10.7"
  },
  "orig_nbformat": 4,
  "vscode": {
   "interpreter": {
    "hash": "369f2c481f4da34e4445cda3fffd2e751bd1c4d706f27375911949ba6bb62e1c"
   }
  }
 },
 "nbformat": 4,
 "nbformat_minor": 2
}
