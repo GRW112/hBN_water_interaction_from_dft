{
 "cells": [
  {
   "cell_type": "markdown",
   "source": [
    "# Plots the DFT ground state energy of the combined hBN-water system as a function of supercell size."
   ],
   "metadata": {}
  },
  {
   "cell_type": "code",
   "execution_count": 6,
   "source": [
    "import pandas as pd\n",
    "import numpy as np\n",
    "import matplotlib.pyplot as plt"
   ],
   "outputs": [],
   "metadata": {}
  },
  {
   "cell_type": "code",
   "execution_count": 7,
   "source": [
    "def make_df(data_path):\n",
    "    df = pd.read_table(\n",
    "        data_path,\n",
    "        delim_whitespace=True,\n",
    "        header=None,\n",
    "        names=[\n",
    "            \"system\",\n",
    "            \"num_atoms\",\n",
    "            \"functional\",\n",
    "            \"ecp\",\n",
    "            \"ecut_ev\",\n",
    "            \"Nk\",\n",
    "            \"Ns\",\n",
    "            \"total_energy_ryd\",\n",
    "        ],\n",
    "    )\n",
    "    return df\n",
    "\n",
    "\n",
    "def plot_supercell_extrapolation(df):\n",
    "    system = df[\"system\"].values[0]\n",
    "    functional = df[\"functional\"].values[0]\n",
    "    ecp = df[\"ecp\"].values[0]\n",
    "    ecut_ev = df[\"ecut_ev\"].values[0]\n",
    "    Nk = df[\"Nk\"].values[0]\n",
    "    plt.figure(figsize=(5, 5))\n",
    "    plt.title(\n",
    "        f\"Supercell extrapolation for hBN-water system\"\n",
    "        + f\"\\n {functional}, {ecp}, E$_{{cut}}$ = {ecut_ev} eV, {Nk}x{Nk}x1 k-mesh\"\n",
    "    )\n",
    "    plt.xlabel(r\"$N_{s_x} \\cdot N_{s_y}$\")\n",
    "    plt.ylabel(\"DFT total energy per atom (eV)\")\n",
    "    plt.plot(\n",
    "        \"supercell_size\",\n",
    "        \"total_energy_ev\",\n",
    "        data=df,\n",
    "        linestyle=\"solid\",\n",
    "        marker=\"o\",\n",
    "    )\n",
    "    plt.savefig(\n",
    "        f\"/Users/Nathan/Desktop/supercell_extrapolation_{system}_{functional}_ecut_{ecut_ev}_{ecp}_Nk_{Nk}.png\",\n",
    "        dpi=300,\n",
    "        bbox_inches=\"tight\",\n",
    "    )"
   ],
   "outputs": [],
   "metadata": {}
  },
  {
   "cell_type": "code",
   "execution_count": 8,
   "source": [
    "data_path = \"total_energy_data.txt\"\n",
    "ryd_per_ev = 0.0734986176\n",
    "df = make_df(data_path)\n",
    "df[\"total_energy_ryd_per_atom\"] = np.divide(df[\"total_energy_ryd\"].values, df[\"num_atoms\"].values)\n",
    "df[\"total_energy_ev\"] = (df[\"total_energy_ryd_per_atom\"].values - df[\"total_energy_ryd_per_atom\"].values[-1]) / ryd_per_ev\n",
    "df[\"supercell_size\"] = np.power(df[\"Ns\"].values, 2)\n",
    "df"
   ],
   "outputs": [
    {
     "output_type": "execute_result",
     "data": {
      "text/plain": [
       "                system  num_atoms functional  ecp  ecut_ev  Nk  Ns  \\\n",
       "0  hBN_water_Oup_Hdown         11        pbe  paw      700   3   1   \n",
       "1  hBN_water_Oup_Hdown         35        pbe  paw      700   3   2   \n",
       "2  hBN_water_Oup_Hdown         75        pbe  paw      700   3   3   \n",
       "3  hBN_water_Oup_Hdown        131        pbe  paw      700   3   4   \n",
       "4  hBN_water_Oup_Hdown        203        pbe  paw      700   3   5   \n",
       "\n",
       "   total_energy_ryd  total_energy_ryd_per_atom  total_energy_ev  \\\n",
       "0       -203.488394                 -18.498945        18.444472   \n",
       "1       -681.869050                 -19.481973         5.069691   \n",
       "2      -1479.158567                 -19.722114         1.802400   \n",
       "3      -2595.362126                 -19.811925         0.580467   \n",
       "4      -4030.481388                 -19.854588         0.000000   \n",
       "\n",
       "   supercell_size  \n",
       "0               1  \n",
       "1               4  \n",
       "2               9  \n",
       "3              16  \n",
       "4              25  "
      ],
      "text/html": [
       "<div>\n",
       "<style scoped>\n",
       "    .dataframe tbody tr th:only-of-type {\n",
       "        vertical-align: middle;\n",
       "    }\n",
       "\n",
       "    .dataframe tbody tr th {\n",
       "        vertical-align: top;\n",
       "    }\n",
       "\n",
       "    .dataframe thead th {\n",
       "        text-align: right;\n",
       "    }\n",
       "</style>\n",
       "<table border=\"1\" class=\"dataframe\">\n",
       "  <thead>\n",
       "    <tr style=\"text-align: right;\">\n",
       "      <th></th>\n",
       "      <th>system</th>\n",
       "      <th>num_atoms</th>\n",
       "      <th>functional</th>\n",
       "      <th>ecp</th>\n",
       "      <th>ecut_ev</th>\n",
       "      <th>Nk</th>\n",
       "      <th>Ns</th>\n",
       "      <th>total_energy_ryd</th>\n",
       "      <th>total_energy_ryd_per_atom</th>\n",
       "      <th>total_energy_ev</th>\n",
       "      <th>supercell_size</th>\n",
       "    </tr>\n",
       "  </thead>\n",
       "  <tbody>\n",
       "    <tr>\n",
       "      <td>0</td>\n",
       "      <td>hBN_water_Oup_Hdown</td>\n",
       "      <td>11</td>\n",
       "      <td>pbe</td>\n",
       "      <td>paw</td>\n",
       "      <td>700</td>\n",
       "      <td>3</td>\n",
       "      <td>1</td>\n",
       "      <td>-203.488394</td>\n",
       "      <td>-18.498945</td>\n",
       "      <td>18.444472</td>\n",
       "      <td>1</td>\n",
       "    </tr>\n",
       "    <tr>\n",
       "      <td>1</td>\n",
       "      <td>hBN_water_Oup_Hdown</td>\n",
       "      <td>35</td>\n",
       "      <td>pbe</td>\n",
       "      <td>paw</td>\n",
       "      <td>700</td>\n",
       "      <td>3</td>\n",
       "      <td>2</td>\n",
       "      <td>-681.869050</td>\n",
       "      <td>-19.481973</td>\n",
       "      <td>5.069691</td>\n",
       "      <td>4</td>\n",
       "    </tr>\n",
       "    <tr>\n",
       "      <td>2</td>\n",
       "      <td>hBN_water_Oup_Hdown</td>\n",
       "      <td>75</td>\n",
       "      <td>pbe</td>\n",
       "      <td>paw</td>\n",
       "      <td>700</td>\n",
       "      <td>3</td>\n",
       "      <td>3</td>\n",
       "      <td>-1479.158567</td>\n",
       "      <td>-19.722114</td>\n",
       "      <td>1.802400</td>\n",
       "      <td>9</td>\n",
       "    </tr>\n",
       "    <tr>\n",
       "      <td>3</td>\n",
       "      <td>hBN_water_Oup_Hdown</td>\n",
       "      <td>131</td>\n",
       "      <td>pbe</td>\n",
       "      <td>paw</td>\n",
       "      <td>700</td>\n",
       "      <td>3</td>\n",
       "      <td>4</td>\n",
       "      <td>-2595.362126</td>\n",
       "      <td>-19.811925</td>\n",
       "      <td>0.580467</td>\n",
       "      <td>16</td>\n",
       "    </tr>\n",
       "    <tr>\n",
       "      <td>4</td>\n",
       "      <td>hBN_water_Oup_Hdown</td>\n",
       "      <td>203</td>\n",
       "      <td>pbe</td>\n",
       "      <td>paw</td>\n",
       "      <td>700</td>\n",
       "      <td>3</td>\n",
       "      <td>5</td>\n",
       "      <td>-4030.481388</td>\n",
       "      <td>-19.854588</td>\n",
       "      <td>0.000000</td>\n",
       "      <td>25</td>\n",
       "    </tr>\n",
       "  </tbody>\n",
       "</table>\n",
       "</div>"
      ]
     },
     "metadata": {},
     "execution_count": 8
    }
   ],
   "metadata": {}
  },
  {
   "cell_type": "code",
   "execution_count": 9,
   "source": [
    "plot_supercell_extrapolation(df)"
   ],
   "outputs": [
    {
     "output_type": "display_data",
     "data": {
      "text/plain": [
       "<Figure size 360x360 with 1 Axes>"
      ],
      "image/png": "[encoded data removed]"
     },
     "metadata": {
      "needs_background": "light"
     }
    }
   ],
   "metadata": {}
  }
 ],
 "metadata": {
  "orig_nbformat": 4,
  "language_info": {
   "name": "python",
   "version": "3.6.9",
   "mimetype": "text/x-python",
   "codemirror_mode": {
    "name": "ipython",
    "version": 3
   },
   "pygments_lexer": "ipython3",
   "nbconvert_exporter": "python",
   "file_extension": ".py"
  },
  "kernelspec": {
   "name": "python3",
   "display_name": "Python 3.6.9 64-bit (conda)"
  },
  "interpreter": {
   "hash": "563616ea0795551886fedfb6f43611ed89f67b819df42e5edfc6c6ce5ab0ec12"
  }
 },
 "nbformat": 4,
 "nbformat_minor": 2
}